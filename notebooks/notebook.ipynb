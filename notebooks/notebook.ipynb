{
 "cells": [
  {
   "cell_type": "code",
   "execution_count": 33,
   "id": "2d66d3f8",
   "metadata": {},
   "outputs": [],
   "source": [
    "import numpy as np\n",
    "import pandas as pd\n",
    "from sklearn.model_selection import train_test_split\n",
    "from sklearn.metrics import accuracy_score, classification_report, confusion_matrix\n",
    "from mord import LogisticAT  # Regresión logística ordinal\n",
    "import seaborn as sns\n",
    "import matplotlib.pyplot as plt\n",
    "\n",
    "# Escalamiento de variables\n",
    "from sklearn.preprocessing import MinMaxScaler"
   ]
  },
  {
   "cell_type": "code",
   "execution_count": 34,
   "metadata": {},
   "outputs": [],
   "source": [
    "raw_data = pd.read_excel(\"./DATA DE SATISFACCIÓN HOSPITAL APP_SESIÓN 03.xlsx\", \n",
    "                         sheet_name = \"SAT HOSP_FEATURE\")"
   ]
  },
  {
   "cell_type": "code",
   "execution_count": 35,
   "metadata": {},
   "outputs": [],
   "source": [
    "# raw_data = raw_data[raw_data[\"hospital\"] == 1]\n",
    "raw_data.drop(columns = [\"hospital\",\"caso\",\"rango_edad\"], inplace = True)\n",
    "\n",
    "raw_data.loc[(raw_data[\"Tipo_hospitalización\"] == 3) & (raw_data[\"sexo\"].isna()), \"sexo\"] = 2\n",
    "raw_data.loc[(raw_data[\"Tipo_hospitalización\"] == 1) & (raw_data[\"sexo\"].isna()), \"sexo\"] = 1\n",
    "raw_data.loc[(raw_data[\"Tipo_hospitalización\"] == 2) & (raw_data[\"sexo\"].isna()), \"sexo\"] = 1"
   ]
  },
  {
   "cell_type": "code",
   "execution_count": 36,
   "metadata": {},
   "outputs": [],
   "source": [
    "\n",
    "edad_median = raw_data[\"edad\"].median()"
   ]
  },
  {
   "cell_type": "code",
   "execution_count": 37,
   "metadata": {},
   "outputs": [],
   "source": [
    "# Imputando la mediana para la fila en la cual no se indicaba el rango de edad\n",
    "# la mediana asiganda es de la data antes de la imputación de las edades\n",
    "raw_data.loc[(raw_data[\"edad\"].isna()), \"edad\"] = edad_median\n"
   ]
  },
  {
   "cell_type": "code",
   "execution_count": 38,
   "metadata": {},
   "outputs": [],
   "source": [
    "# Corrigiendo valores atípicos en la variable \"sat8\"\n",
    "# La variable \"sat8\" representa una escala de satisfacción del 1 al 5\n",
    "sat8_moda = raw_data[\"sat8\"].mode().iloc[0]\n",
    "raw_data.loc[raw_data[\"sat8\"] > 5, \"sat8\"] = sat8_moda"
   ]
  },
  {
   "cell_type": "code",
   "execution_count": 39,
   "id": "20c1ec7c",
   "metadata": {},
   "outputs": [],
   "source": [
    "# Completando valores nulos\n",
    "raw_data.loc[ raw_data[\"sat8\"].isna(), \"sat8\"] = sat8_moda "
   ]
  },
  {
   "cell_type": "code",
   "execution_count": 40,
   "id": "19fde72d",
   "metadata": {},
   "outputs": [
    {
     "name": "stdout",
     "output_type": "stream",
     "text": [
      "<class 'pandas.core.frame.DataFrame'>\n",
      "RangeIndex: 686 entries, 0 to 685\n",
      "Data columns (total 15 columns):\n",
      " #   Column                Non-Null Count  Dtype  \n",
      "---  ------                --------------  -----  \n",
      " 0   sexo                  686 non-null    float64\n",
      " 1   edad                  686 non-null    float64\n",
      " 2   sat_general           686 non-null    int64  \n",
      " 3   sat1                  686 non-null    int64  \n",
      " 4   sat2                  686 non-null    int64  \n",
      " 5   sat3                  686 non-null    int64  \n",
      " 6   sat4                  686 non-null    int64  \n",
      " 7   sat5                  686 non-null    int64  \n",
      " 8   sat6                  686 non-null    int64  \n",
      " 9   sat7                  686 non-null    int64  \n",
      " 10  sat8                  686 non-null    float64\n",
      " 11  medicion              686 non-null    int64  \n",
      " 12  N_días_hosp           686 non-null    int64  \n",
      " 13  Procedencia           686 non-null    int64  \n",
      " 14  Tipo_hospitalización  686 non-null    int64  \n",
      "dtypes: float64(3), int64(12)\n",
      "memory usage: 80.5 KB\n"
     ]
    }
   ],
   "source": [
    "raw_data.info()"
   ]
  },
  {
   "cell_type": "markdown",
   "id": "a77533ac",
   "metadata": {},
   "source": [
    "## Escalamiento de variables"
   ]
  },
  {
   "cell_type": "code",
   "execution_count": 41,
   "metadata": {},
   "outputs": [],
   "source": [
    "# Supongamos que la columna que deseas escalar se llama 'nombre_columna'\n",
    "scaler_edad = MinMaxScaler()\n",
    "\n",
    "# Ajustar y transformar los datos\n",
    "raw_data['edad_escalada'] = scaler_edad.fit_transform(raw_data[['edad']])"
   ]
  },
  {
   "cell_type": "code",
   "execution_count": 42,
   "metadata": {},
   "outputs": [],
   "source": [
    "# Supongamos que la columna que deseas escalar se llama 'nombre_columna'\n",
    "scaler_dias_hospital = MinMaxScaler()\n",
    "\n",
    "# Ajustar y transformar los datos\n",
    "raw_data['N_dias_hosp_escalada'] = scaler_dias_hospital.fit_transform(raw_data[['N_días_hosp']])\n"
   ]
  },
  {
   "cell_type": "markdown",
   "id": "2fe3845a",
   "metadata": {},
   "source": [
    "Analisis de satisfaccion"
   ]
  },
  {
   "cell_type": "code",
   "execution_count": 43,
   "id": "66d9675b",
   "metadata": {},
   "outputs": [],
   "source": [
    "nivel_satisfaccion = raw_data.copy()\n",
    "# Definimos un diccionario de mapeo\n",
    "mapeo_satisfaccion = {\n",
    "    1: 0,\n",
    "    2: 0,\n",
    "    3: 0,\n",
    "    4: 1, # Satisfecho\n",
    "    5: 1  # Satisfecho\n",
    "}\n",
    "\n",
    "nivel_satisfaccion.loc[:,'sat_general_reclasificada'] = nivel_satisfaccion[\"sat_general\"].map(mapeo_satisfaccion)"
   ]
  },
  {
   "cell_type": "markdown",
   "id": "d9a89841",
   "metadata": {},
   "source": [
    "## Selección de variables"
   ]
  },
  {
   "cell_type": "code",
   "execution_count": 44,
   "id": "3a61f720",
   "metadata": {},
   "outputs": [],
   "source": [
    "data_selected_variables = nivel_satisfaccion.copy()"
   ]
  },
  {
   "cell_type": "code",
   "execution_count": 45,
   "metadata": {},
   "outputs": [],
   "source": [
    "data_selected_variables = data_selected_variables.drop(columns = ['sexo', 'medicion', \n",
    "                                                                  'Procedencia', 'Tipo_hospitalización',\n",
    "                                                                  'N_días_hosp','N_dias_hosp_escalada',\n",
    "                                                                  'edad' # Se elimina la variable edad con tal de solo\n",
    "                                                                  # considerar la varialbe edad_escalada la cual es más adecuada para\n",
    "                                                                  # el modelo\n",
    "                                                                  ])"
   ]
  },
  {
   "cell_type": "markdown",
   "id": "35538fd0",
   "metadata": {},
   "source": [
    "## Regresión logística ordinal - target: sat_general"
   ]
  },
  {
   "cell_type": "code",
   "execution_count": 46,
   "id": "7fb09b64",
   "metadata": {},
   "outputs": [
    {
     "name": "stdout",
     "output_type": "stream",
     "text": [
      "Accuracy: 0.8695652173913043\n",
      "\n",
      "Classification Report:\n",
      "               precision    recall  f1-score   support\n",
      "\n",
      "           0       0.79      0.42      0.55        26\n",
      "           1       0.88      0.97      0.92       112\n",
      "\n",
      "    accuracy                           0.87       138\n",
      "   macro avg       0.83      0.70      0.74       138\n",
      "weighted avg       0.86      0.87      0.85       138\n",
      "\n",
      "\n",
      "Matriz de Confusión:\n",
      " [[ 11  15]\n",
      " [  3 109]]\n"
     ]
    }
   ],
   "source": [
    "\n",
    "# 1. Separar variables predictoras (X) y variable objetivo (y)\n",
    "X = data_selected_variables.drop(columns=['sat_general', 'sat_general_reclasificada'])\n",
    "y = data_selected_variables['sat_general_reclasificada']\n",
    "\n",
    "# 2. Dividir los datos en conjunto de entrenamiento y prueba (80%-20%)\n",
    "X_train, X_test, y_train, y_test = train_test_split(X, y, test_size=0.2, random_state=42, stratify=y)\n",
    "\n",
    "# 3. Entrenar modelo de Regresión Logística Ordinal\n",
    "model = LogisticAT(alpha=1.0)  # alpha es el parámetro de regularización\n",
    "model.fit(X_train, y_train)\n",
    "\n",
    "# 4. Predicciones en el conjunto de prueba\n",
    "y_pred = model.predict(X_test)\n",
    "\n",
    "# 5. Evaluación del modelo\n",
    "print(\"Accuracy:\", accuracy_score(y_test, y_pred))\n",
    "print(\"\\nClassification Report:\\n\", classification_report(y_test, y_pred))\n",
    "print(\"\\nMatriz de Confusión:\\n\", confusion_matrix(y_test, y_pred))\n"
   ]
  }
 ],
 "metadata": {
  "kernelspec": {
   "display_name": "base",
   "language": "python",
   "name": "python3"
  },
  "language_info": {
   "codemirror_mode": {
    "name": "ipython",
    "version": 3
   },
   "file_extension": ".py",
   "mimetype": "text/x-python",
   "name": "python",
   "nbconvert_exporter": "python",
   "pygments_lexer": "ipython3",
   "version": "3.12.3"
  }
 },
 "nbformat": 4,
 "nbformat_minor": 5
}
